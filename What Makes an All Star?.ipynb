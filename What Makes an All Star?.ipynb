{
 "cells": [
  {
   "cell_type": "markdown",
   "metadata": {},
   "source": [
    "**What Makes an All Star?\n",
    "Development of a machine learning model to predict which RuPaul's Drag Race contestants are most likely to be selected for an All Stars Season based on their performance in previous seasons. **\n",
    "\n",
    "**Limitation:** For the purposes of this exploration, I use the terminology \"selected\" to describe a contestant who has competed in previous seasons who is competing in the target All Stars season. I am aware that not all contestants who are selected for All Stars accept and that this information is not widely distributed, so it is impossible to obtain accurate data on which contestants are selected for All Stars. \"Selected for All Stars\" in this context should therefore be read as a shorthand \"selected and accepted an invitation to compete in All Stars\".\n",
    "\n",
    "Further limitations will be discussed at the end of the analysis."
   ]
  },
  {
   "cell_type": "markdown",
   "metadata": {},
   "source": [
    "**Retrieving input data**"
   ]
  },
  {
   "cell_type": "markdown",
   "metadata": {},
   "source": [
    "Run prep module to get data of contestant performance and All Stars selection/performance for All Stars Seasons 1-4 scraped from Wikipedia and cleaned for analysis."
   ]
  },
  {
   "cell_type": "code",
   "execution_count": 1,
   "metadata": {
    "collapsed": true
   },
   "outputs": [],
   "source": [
    "import All_Stars_Data_Prep as all_stars_prep\n",
    "model_data = all_stars_prep.get_all_stars_selection_model_data(range(1,5))"
   ]
  },
  {
   "cell_type": "markdown",
   "metadata": {},
   "source": [
    "Load function to get Pearson correlations and p-values to explore which features might be best used in the model."
   ]
  },
  {
   "cell_type": "code",
   "execution_count": 37,
   "metadata": {
    "collapsed": true
   },
   "outputs": [],
   "source": [
    "def get_pearson_correlations (model_data, dv, feature_columns):\n",
    "\n",
    "    # Create output dataframe\n",
    "    df = pd.DataFrame(columns=['Independent Variable', 'Correlation', 'P-Value'])\n",
    "    \n",
    "    # For each independent variable in the feature columns, get Pearson correlation/p-value and add to dataframe\n",
    "    for iv in feature_columns:\n",
    "        [corr, pval] = pearsonr(model_data[iv], model_data[dv])\n",
    "        new_row = [iv, corr, pval]\n",
    "        df.loc[df.shape[0] + 1] = new_row\n",
    "\n",
    "    return df"
   ]
  },
  {
   "cell_type": "markdown",
   "metadata": {},
   "source": [
    "**Exploratory analysis**"
   ]
  },
  {
   "cell_type": "markdown",
   "metadata": {},
   "source": [
    "Load packages for data analysis."
   ]
  },
  {
   "cell_type": "code",
   "execution_count": 6,
   "metadata": {
    "collapsed": true
   },
   "outputs": [],
   "source": [
    "import pandas as pd\n",
    "from scipy.stats.stats import pearsonr\n",
    "from sklearn.linear_model import LogisticRegression\n",
    "from sklearn.model_selection import train_test_split\n",
    "from sklearn import metrics"
   ]
  },
  {
   "cell_type": "markdown",
   "metadata": {},
   "source": [
    "***Correlations***"
   ]
  },
  {
   "cell_type": "markdown",
   "metadata": {},
   "source": [
    "Explore correlations to see what independent variables are correlated with a contestant being selected for All Stars."
   ]
  },
  {
   "cell_type": "code",
   "execution_count": 7,
   "metadata": {
    "collapsed": false
   },
   "outputs": [
    {
     "data": {
      "text/html": [
       "<div>\n",
       "<table border=\"1\" class=\"dataframe\">\n",
       "  <thead>\n",
       "    <tr style=\"text-align: right;\">\n",
       "      <th></th>\n",
       "      <th>Independent Variable</th>\n",
       "      <th>Correlation</th>\n",
       "      <th>P-Value</th>\n",
       "    </tr>\n",
       "  </thead>\n",
       "  <tbody>\n",
       "    <tr>\n",
       "      <th>1</th>\n",
       "      <td>Win</td>\n",
       "      <td>0.037493</td>\n",
       "      <td>0.468539</td>\n",
       "    </tr>\n",
       "    <tr>\n",
       "      <th>2</th>\n",
       "      <td>High</td>\n",
       "      <td>0.147827</td>\n",
       "      <td>0.004069</td>\n",
       "    </tr>\n",
       "    <tr>\n",
       "      <th>3</th>\n",
       "      <td>Safe</td>\n",
       "      <td>0.114581</td>\n",
       "      <td>0.026302</td>\n",
       "    </tr>\n",
       "    <tr>\n",
       "      <th>4</th>\n",
       "      <td>Low</td>\n",
       "      <td>-0.006113</td>\n",
       "      <td>0.905957</td>\n",
       "    </tr>\n",
       "    <tr>\n",
       "      <th>5</th>\n",
       "      <td>Bottom</td>\n",
       "      <td>0.052854</td>\n",
       "      <td>0.306697</td>\n",
       "    </tr>\n",
       "    <tr>\n",
       "      <th>6</th>\n",
       "      <td>Eliminated</td>\n",
       "      <td>-0.095364</td>\n",
       "      <td>0.064713</td>\n",
       "    </tr>\n",
       "    <tr>\n",
       "      <th>7</th>\n",
       "      <td>Guest</td>\n",
       "      <td>-0.116583</td>\n",
       "      <td>0.023771</td>\n",
       "    </tr>\n",
       "    <tr>\n",
       "      <th>8</th>\n",
       "      <td>Season Winner</td>\n",
       "      <td>-0.110695</td>\n",
       "      <td>0.031880</td>\n",
       "    </tr>\n",
       "    <tr>\n",
       "      <th>9</th>\n",
       "      <td>Season Runner-Up</td>\n",
       "      <td>0.102937</td>\n",
       "      <td>0.046077</td>\n",
       "    </tr>\n",
       "    <tr>\n",
       "      <th>10</th>\n",
       "      <td>Season Miss Congeniality</td>\n",
       "      <td>0.189553</td>\n",
       "      <td>0.000218</td>\n",
       "    </tr>\n",
       "    <tr>\n",
       "      <th>11</th>\n",
       "      <td>Total Appearances</td>\n",
       "      <td>0.095878</td>\n",
       "      <td>0.063277</td>\n",
       "    </tr>\n",
       "    <tr>\n",
       "      <th>12</th>\n",
       "      <td>Years Since Last Competed</td>\n",
       "      <td>-0.146368</td>\n",
       "      <td>0.004454</td>\n",
       "    </tr>\n",
       "  </tbody>\n",
       "</table>\n",
       "</div>"
      ],
      "text/plain": [
       "         Independent Variable  Correlation   P-Value\n",
       "1                         Win     0.037493  0.468539\n",
       "2                        High     0.147827  0.004069\n",
       "3                        Safe     0.114581  0.026302\n",
       "4                         Low    -0.006113  0.905957\n",
       "5                      Bottom     0.052854  0.306697\n",
       "6                  Eliminated    -0.095364  0.064713\n",
       "7                       Guest    -0.116583  0.023771\n",
       "8               Season Winner    -0.110695  0.031880\n",
       "9            Season Runner-Up     0.102937  0.046077\n",
       "10   Season Miss Congeniality     0.189553  0.000218\n",
       "11          Total Appearances     0.095878  0.063277\n",
       "12  Years Since Last Competed    -0.146368  0.004454"
      ]
     },
     "execution_count": 7,
     "metadata": {},
     "output_type": "execute_result"
    }
   ],
   "source": [
    "feature_cols = [ 'Win', 'High', 'Safe', 'Low', 'Bottom', 'Eliminated', 'Guest', \n",
    "                 'Season Winner', 'Season Runner-Up', 'Season Miss Congeniality',\n",
    "                 'Total Appearances', 'Years Since Last Competed' ]\n",
    "get_pearson_correlations(model_data, 'Competed', feature_cols)"
   ]
  },
  {
   "cell_type": "markdown",
   "metadata": {},
   "source": [
    "As a viewer of the show, this is quite an interesting list of correlations.\n",
    "\n",
    "The independent variable with the strongest and most statistically significant correlation to whether or not a contestant is selected to compete in an All Stars season is whether or not the contestant was crowned Miss Congeniality in a main season. This may have something to do with the \"fan favourite\" nature of the award (as noted by Trinity the Tuck in the season 9 reunion) and, upon examination, only 3 of the 11 eligible Miss Congeniality winners - Ivy Winters, Cynthia Lee Fontaine, and Nina West (excluding Heidi N Closet who was awarded Miss Congeniality after the most recent All Stars cast was already announced) - did not return for an All Stars Season. Of these, Cynthia Lee Fontaine was asked to return for a main season (season 9) and Nina West has only been eligible for one selection round and may be selected for subsequent seasons. This correlation makes a lot of sense in the context of the shows."
   ]
  },
  {
   "cell_type": "markdown",
   "metadata": {},
   "source": [
    "***Confusion matrix for subset of independent variables***"
   ]
  },
  {
   "cell_type": "markdown",
   "metadata": {},
   "source": [
    "Create a list of feature names to be used in an initial model, selecting those with a p-value of less than 0.05."
   ]
  },
  {
   "cell_type": "code",
   "execution_count": 9,
   "metadata": {
    "collapsed": true
   },
   "outputs": [],
   "source": [
    "feature_cols_selected = [ 'High', 'Safe', 'Guest', 'Season Winner', 'Season Runner-Up', \n",
    "                          'Season Miss Congeniality', 'Years Since Last Competed' ]"
   ]
  },
  {
   "cell_type": "markdown",
   "metadata": {},
   "source": [
    "Load function to get confusion matrix for a selected set of feature columns."
   ]
  },
  {
   "cell_type": "code",
   "execution_count": 25,
   "metadata": {
    "collapsed": true
   },
   "outputs": [],
   "source": [
    "def get_confusion_matrix (model_data, feature_cols, dependent_variable, seed_val=0, test_size=0.25, solver='liblinear'):                \n",
    "    X = model_data[feature_cols]\n",
    "    y = model_data[dependent_variable]\n",
    "    \n",
    "    # Split into train and test set\n",
    "    X_train, X_test, y_train, y_test = train_test_split(X, y, test_size=test_size, random_state=seed_val)\n",
    "    \n",
    "    # Instantiate the model\n",
    "    lr = LogisticRegression(solver=solver)\n",
    "    lr.fit(X_train, y_train)\n",
    "    y_pred = lr.predict(X_test)\n",
    "    cnf_matrix = metrics.confusion_matrix(y_test, y_pred)\n",
    "    \n",
    "    return cnf_matrix"
   ]
  },
  {
   "cell_type": "markdown",
   "metadata": {},
   "source": [
    "Examine confusion matrix for the selected columns."
   ]
  },
  {
   "cell_type": "code",
   "execution_count": 31,
   "metadata": {
    "collapsed": false
   },
   "outputs": [
    {
     "data": {
      "text/plain": [
       "array([[84,  0],\n",
       "       [10,  0]])"
      ]
     },
     "execution_count": 31,
     "metadata": {},
     "output_type": "execute_result"
    }
   ],
   "source": [
    "get_confusion_matrix(model_data, feature_cols_selected, 'Competed')"
   ]
  },
  {
   "cell_type": "markdown",
   "metadata": {},
   "source": [
    "The model is consistently predicting an outcome of 0 for whether or not a contestant is selected to compete (a recall of 0% for the class that were selected and 100% for the class that were not selected), which indicates that my dataset is imbalanced."
   ]
  },
  {
   "cell_type": "markdown",
   "metadata": {},
   "source": [
    "Check how many records belong to each output class to get the ratio of class instances."
   ]
  },
  {
   "cell_type": "code",
   "execution_count": 36,
   "metadata": {
    "collapsed": false
   },
   "outputs": [
    {
     "data": {
      "text/plain": [
       "39"
      ]
     },
     "execution_count": 36,
     "metadata": {},
     "output_type": "execute_result"
    }
   ],
   "source": [
    "model_data[model_data['Competed']==1].count()['Contestant']"
   ]
  },
  {
   "cell_type": "code",
   "execution_count": 35,
   "metadata": {
    "collapsed": false
   },
   "outputs": [
    {
     "data": {
      "text/plain": [
       "337"
      ]
     },
     "execution_count": 35,
     "metadata": {},
     "output_type": "execute_result"
    }
   ],
   "source": [
    "model_data[model_data['Competed']==0].count()['Contestant']"
   ]
  },
  {
   "cell_type": "markdown",
   "metadata": {},
   "source": [
    "The overall class ratio is 39:337. This is due the nature of this data, since out of at least 46 contestants that could be selected for an All Stars season (up to almost 130 for All Stars Season 4), only 10-12 contestants are selected, making a complete dataset imbalanced."
   ]
  },
  {
   "cell_type": "markdown",
   "metadata": {},
   "source": [
    "This dataset will need to be rebalanced, which I will try to achieve by over-sampling. I have decided to use over-sampling in this case as the overall number of records is less than 500 and under-sampling is best used where there is a large number of records (>10,000). For this, I will use the Synthetic Minority Over-sampling Technique (SMOTE)."
   ]
  },
  {
   "cell_type": "markdown",
   "metadata": {},
   "source": [
    "**Rebalancing by oversampling**"
   ]
  },
  {
   "cell_type": "code",
   "execution_count": 1,
   "metadata": {
    "collapsed": false
   },
   "outputs": [],
   "source": [
    "import imblearn"
   ]
  },
  {
   "cell_type": "code",
   "execution_count": null,
   "metadata": {
    "collapsed": true
   },
   "outputs": [],
   "source": []
  },
  {
   "cell_type": "code",
   "execution_count": null,
   "metadata": {
    "collapsed": true
   },
   "outputs": [],
   "source": []
  },
  {
   "cell_type": "code",
   "execution_count": null,
   "metadata": {
    "collapsed": true
   },
   "outputs": [],
   "source": []
  },
  {
   "cell_type": "code",
   "execution_count": null,
   "metadata": {
    "collapsed": true
   },
   "outputs": [],
   "source": []
  },
  {
   "cell_type": "markdown",
   "metadata": {},
   "source": [
    "**Limitations**"
   ]
  },
  {
   "cell_type": "markdown",
   "metadata": {},
   "source": [
    "**Ineligibility:** Some contestants are effectively ineligible for selection due to factors occurring outside of the show. This includes Sherry Pie, who was disqualified from Season 12 for conduct outside the show, and Pearl, who was allegedly informed by production that she would never be selected for an All Stars season as a result of comments that she made about RuPaul and the show after her run.\n",
    "\n",
    "Other contestants are not ineligible for selection, but have stated that they would not be interested in competing in an All Stars season and have turned down invitations to do so. Some contestants, such as Trinity the Tuck, Shea Coulee, Valentina, and Ben Delacreme have stated that they turned down an earlier All Stars invitation in order to compete in a later season, while Phi Phi O'Hara allegedly turned down an All Stars Season 1 invitation due to scheduling conflicts. Kim Chi and Laganja Estranga have said that they have also turned down an All Stars invitation previously and did not appear in any subsequent All Stars seasons. Others have quit drag as a full-time career (Ivy Winters) or disavowed their drag personas entirely (Tyra Sanchez).\n",
    "\n",
    "None of this data can be easily obtained via a web scrape and any data relating to this would be effectively incomplete and unreliable compared to the season data (challenge wins, etc.) as it is effectively based on rumours and individual statements from the contestants, which can't be verified as production does not comment on who they have invited to partake in All Stars. Additionally, it is possible that there are other contestants who have been asked back for an All Stars season but have refrained from commenting on it publicly."
   ]
  },
  {
   "cell_type": "markdown",
   "metadata": {},
   "source": [
    "**Fan favourites:** Popularity with fans and success outside the show is usually a major factor in determining whether a contestant is selected for All Stars, even if the contestant does not perform outstandingly well by the episode metrics during their season (such as challenge wins). Examples include Trixie Mattel (who had a country music career and successful web series outside the show and was selected for, and subsequently won, All Stars Season 3) and Jasmine Masters (who had a short run on the show but found success on YouTube and was selected for All Stars 4).\n",
    "\n",
    "If you refer to the correlations table at [7], you will notice that the variable with the strongest and most statistically significant correlation is whether or not a contestant won Miss Congeniality in their original season. Prior to Season 10, the Miss Congeniality prize was voted by fans (notably, this was controversial in the cases Pandora Boxx, Ben Delacreme, Katya, and in particular Valentina, with Trinity the Tuck renaming the award as \"Fan Favourite\" in the Season 9 reunion). Even after the Miss Congeniality award was voted by the other contestants, the winner was consistently a fan favourite regardless.\n",
    "\n",
    "However it is difficult to measure popularity by an objective metric. Follower counts on Instagram/Twitter might make a good proxy in this case, however I am not aware of a way to get follower counts prior to selection and additional season appearances will boost a contestant's following after airing, particularly in the case of contestants such as Manila Luzon (All Stars Season 4) and Shangela (All Stars Season 3), who had large gaps between their prior season and All Stars season appearances and experienced a resurgence in social media following after the airing of their All Stars season."
   ]
  },
  {
   "cell_type": "markdown",
   "metadata": {},
   "source": []
  }
 ],
 "metadata": {
  "anaconda-cloud": {},
  "kernelspec": {
   "display_name": "Python [conda root]",
   "language": "python",
   "name": "conda-root-py"
  },
  "language_info": {
   "codemirror_mode": {
    "name": "ipython",
    "version": 3
   },
   "file_extension": ".py",
   "mimetype": "text/x-python",
   "name": "python",
   "nbconvert_exporter": "python",
   "pygments_lexer": "ipython3",
   "version": "3.5.2"
  }
 },
 "nbformat": 4,
 "nbformat_minor": 1
}
